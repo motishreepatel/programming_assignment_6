{
 "cells": [
  {
   "cell_type": "code",
   "execution_count": 1,
   "metadata": {},
   "outputs": [
    {
     "name": "stdout",
     "output_type": "stream",
     "text": [
      "fibonacci sequence: \n",
      "0\n",
      "1\n",
      "1\n",
      "2\n",
      "3\n"
     ]
    }
   ],
   "source": [
    "#Q - 1. Write a Python Program to Display Fibonacci Sequence Using Recursion?\n",
    "#Answer:\n",
    "def fibonacci(n):\n",
    "    if n<=1:\n",
    "        return n\n",
    "    else:\n",
    "        return fibonacci(n-1) + fibonacci(n-2)\n",
    "\n",
    "#To check if the input is valid\n",
    "num = int(input(\"Enter a number: \"))\n",
    "if (num<=0):\n",
    "    print(\"Number of terms should be a positive number\")\n",
    "else:\n",
    "    print(\"fibonacci sequence: \")\n",
    "    for i in range(num):\n",
    "        print(fibonacci(i) )"
   ]
  },
  {
   "cell_type": "code",
   "execution_count": 4,
   "metadata": {},
   "outputs": [
    {
     "name": "stdout",
     "output_type": "stream",
     "text": [
      "Factorial of  4 is:  24\n"
     ]
    }
   ],
   "source": [
    "#Q - 2. Write a Python Program to Find Factorial of Number Using Recursion?\n",
    "#Answer:\n",
    "def factorial(n):\n",
    "    if n==1:\n",
    "        return 1\n",
    "    else:\n",
    "        return n*factorial(n-1)\n",
    "\n",
    "num= int(input(\"Enter a number to check its factorial: \"))\n",
    "print(\"Factorial of \",num,\"is: \",factorial(num) )"
   ]
  },
  {
   "cell_type": "code",
   "execution_count": 5,
   "metadata": {},
   "outputs": [
    {
     "name": "stdout",
     "output_type": "stream",
     "text": [
      "BMI for given weight and height is:  22.232140460146578\n"
     ]
    }
   ],
   "source": [
    "#Q - 3. Write a Python Program to calculate your Body Mass Index?\n",
    "#Answer:\n",
    "weight = float(input(\"Enterv weight in kg\"))\n",
    "height= float(input(\"Enter height in meter\"))\n",
    "\n",
    "BMI = weight/height**2\n",
    "\n",
    "print(\"BMI for given weight and height is: \", BMI)"
   ]
  },
  {
   "cell_type": "code",
   "execution_count": 6,
   "metadata": {},
   "outputs": [
    {
     "name": "stdout",
     "output_type": "stream",
     "text": [
      "The logarithm of 5.0 is: 1.6094379124341003\n"
     ]
    }
   ],
   "source": [
    "#Q - 4. Write a Python Program to calculate the natural logarithm of any number?\n",
    "#Answer: we will use the log method from math module to calculate logarithmic of a number\n",
    "import math\n",
    "\n",
    "num = float(input(\"Enter a number: \"))\n",
    "log_num = math.log(num)\n",
    "\n",
    "print(\"The logarithm of\",num,\"is:\", log_num)\n"
   ]
  },
  {
   "cell_type": "code",
   "execution_count": 10,
   "metadata": {},
   "outputs": [
    {
     "name": "stdout",
     "output_type": "stream",
     "text": [
      "Cube sum of  3 natural numbers is:  36\n"
     ]
    }
   ],
   "source": [
    "#Q - 5. Write a Python Program for cube sum of first n natural numbers?\n",
    "#Answer:\n",
    "def cube_sum(n):\n",
    "    sum = 0\n",
    "    for i in range(1,n+1):\n",
    "        sum = sum + (i**3)\n",
    "    return sum\n",
    "\n",
    "num = int(input(\"Pls enter number of range: \"))\n",
    "print(\"Cube sum of \",num,\"natural numbers is: \",cube_sum(num))\n",
    "    "
   ]
  },
  {
   "cell_type": "code",
   "execution_count": null,
   "metadata": {},
   "outputs": [],
   "source": []
  }
 ],
 "metadata": {
  "kernelspec": {
   "display_name": "Python 3.9.6 64-bit",
   "language": "python",
   "name": "python3"
  },
  "language_info": {
   "codemirror_mode": {
    "name": "ipython",
    "version": 3
   },
   "file_extension": ".py",
   "mimetype": "text/x-python",
   "name": "python",
   "nbconvert_exporter": "python",
   "pygments_lexer": "ipython3",
   "version": "3.9.6"
  },
  "orig_nbformat": 4,
  "vscode": {
   "interpreter": {
    "hash": "31f2aee4e71d21fbe5cf8b01ff0e069b9275f58929596ceb00d14d90e3e16cd6"
   }
  }
 },
 "nbformat": 4,
 "nbformat_minor": 2
}
